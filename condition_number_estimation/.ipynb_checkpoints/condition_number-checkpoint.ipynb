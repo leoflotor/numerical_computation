{
 "cells": [
  {
   "cell_type": "code",
   "execution_count": 1,
   "metadata": {},
   "outputs": [],
   "source": [
    "import numpy as np\n",
    "from scipy.linalg import lu_solve, lu_factor"
   ]
  },
  {
   "cell_type": "code",
   "execution_count": 2,
   "metadata": {},
   "outputs": [],
   "source": [
    "# Just some matrixes that I have been using as examples,\n",
    "# and guidance to implement the solution.\n",
    "\n",
    "test_A = [[14, 14, -9, 3, -5], \n",
    "            [14, 52, -15, 2, -32], \n",
    "            [-9, -15, 36, -5, 16], \n",
    "            [3, 2, -5, 47, 49], \n",
    "            [-5, -32, 16, 49, 79]]\n",
    "\n",
    "test_B = [-15, -100,106,329,463]\n",
    "\n",
    "# matrixA = [[9.0, 3.0, 2.0, 0.0, 7.0], \n",
    "#             [7.0, 6.0, 9.0, 6.0, 4.0], \n",
    "#             [2.0, 7.0, 7.0, 8.0, 2.0], \n",
    "#             [0.0, 9.0, 7.0, 2.0, 2.0], \n",
    "#             [7.0, 3.0, 6.0, 4.0, 3.0]]\n",
    "\n",
    "# matrixB = [35.0, 58.0, 53.0, 37.0, 39.0]"
   ]
  },
  {
   "cell_type": "code",
   "execution_count": 3,
   "metadata": {},
   "outputs": [],
   "source": [
    "def infty_norm(matrix):\n",
    "    row_sum = np.array([])\n",
    "\n",
    "    for i in range(0, matrix.shape[0]):\n",
    "        row = np.sum(np.abs(matrix[i]))\n",
    "        row_sum = np.append(row_sum, row)\n",
    "\n",
    "    return row_sum.max()"
   ]
  },
  {
   "cell_type": "code",
   "execution_count": 4,
   "metadata": {},
   "outputs": [],
   "source": [
    "def v(matrix, vector, iterations):\n",
    "    for i in range(0, iterations+1):\n",
    "        vector = vector / infty_norm(vector)\n",
    "        vector = lu_solution(matrix, vector)\n",
    "    \n",
    "    return infty_norm(vector)"
   ]
  },
  {
   "cell_type": "code",
   "execution_count": 5,
   "metadata": {},
   "outputs": [],
   "source": [
    "def k(matrix, vector, iterations):\n",
    "    return v(matrix, vector, iterations) * infty_norm(matrix)"
   ]
  },
  {
   "cell_type": "code",
   "execution_count": 6,
   "metadata": {},
   "outputs": [],
   "source": [
    "def lu_solution(matrix, vector):\n",
    "    \n",
    "    # This will make a copy of the original matrix and column-vector\n",
    "    # which will be used to find the solution x for the system Ax = b.\n",
    "    matrix_A = matrix.copy()\n",
    "    matrix_b = vector.copy()\n",
    "    \n",
    "    # Making sure that float numbers will be used.\n",
    "    matrix_A = np.array(matrix_A, dtype=np.float) #float or float32, or float64 ?\n",
    "    matrix_b = np.array(matrix_b, dtype=np.float)\n",
    "\n",
    "    indx = np.arange(0, matrix_A.shape[0])\n",
    "\n",
    "    for i in range(0, matrix_A.shape[0]-1):\n",
    "        am = np.abs(matrix_A[i, i])\n",
    "        p = i\n",
    "\n",
    "\n",
    "        for j in range(i+1, matrix_A.shape[0]):\n",
    "            if np.abs(matrix_A[j, i]) > am:\n",
    "                am = np.abs(matrix_A[j, i])\n",
    "                p = j\n",
    "\n",
    "        if p > i:        \n",
    "            for k in range(0, matrix_A.shape[0]):\n",
    "                hold = matrix_A[i,k]\n",
    "                matrix_A[i, k] = matrix_A[p, k]\n",
    "                matrix_A[p, k] = hold\n",
    "\n",
    "            ihold = indx[i]\n",
    "            indx[i] = indx[p]\n",
    "            indx[p] = ihold\n",
    "\n",
    "\n",
    "        for j in range(i+1, matrix_A.shape[0]):\n",
    "            matrix_A[j, i] = matrix_A[j, i] / matrix_A[i, i]\n",
    "\n",
    "            for k in range(i+1, matrix_A.shape[0]):\n",
    "                matrix_A[j, k] = matrix_A[j, k] - matrix_A[j, i] * matrix_A[i, k]\n",
    "\n",
    "    # matrix_A\n",
    "    # matrix_b\n",
    "    # indx\n",
    "\n",
    "    x = np.zeros(matrix_A.shape[0])\n",
    "\n",
    "    for k in range(0, matrix_A.shape[0]):\n",
    "        x[k] = matrix_b[indx[k]]\n",
    "\n",
    "    for k in range(0, matrix_A.shape[0]):\n",
    "        matrix_b[k] = x[k]\n",
    "\n",
    "    # x\n",
    "    # matrix_b\n",
    "\n",
    "    y = np.zeros(matrix_A.shape[0])\n",
    "    y[0] = matrix_b[0]\n",
    "\n",
    "    for i in range(1, matrix_A.shape[0]):\n",
    "        sum = 0.0\n",
    "\n",
    "        for j in range(0, i):\n",
    "            sum = sum + matrix_A[i, j] * y[j]\n",
    "\n",
    "        y[i] = (matrix_b[i] - sum)\n",
    "\n",
    "    # y\n",
    "\n",
    "    x[-1] = y[-1] / matrix_A[-1, -1]\n",
    "\n",
    "    for i in range(matrix_A.shape[0]-1, -1, -1):\n",
    "        sum = 0.0\n",
    "\n",
    "        for j in range(i+1, matrix_A.shape[0]):\n",
    "            sum = sum + matrix_A[i, j] * x[j]\n",
    "\n",
    "        x[i] = (y[i] - sum) / matrix_A[i, i]\n",
    "\n",
    "    return x"
   ]
  },
  {
   "cell_type": "code",
   "execution_count": 7,
   "metadata": {},
   "outputs": [
    {
     "data": {
      "text/plain": [
       "array([1.73829205e-14, 1.00000000e+00, 2.00000000e+00, 3.00000000e+00,\n",
       "       4.00000000e+00])"
      ]
     },
     "execution_count": 7,
     "metadata": {},
     "output_type": "execute_result"
    }
   ],
   "source": [
    "lu_solution(test_A, test_B)"
   ]
  },
  {
   "cell_type": "code",
   "execution_count": 8,
   "metadata": {},
   "outputs": [],
   "source": [
    "matrixA = np.array([[1, 1/2, 1/3], \n",
    "               [1/2, 1/3, 1/4], \n",
    "               [1/3, 1/4, 1/5]], \n",
    "              dtype=np.float)\n",
    "\n",
    "y0 = np.array([0.2190, \n",
    "               0.0470, \n",
    "               0.6789], \n",
    "              dtype = np.float)"
   ]
  },
  {
   "cell_type": "code",
   "execution_count": 9,
   "metadata": {},
   "outputs": [
    {
     "data": {
      "text/plain": [
       "682.2111537287485"
      ]
     },
     "execution_count": 9,
     "metadata": {},
     "output_type": "execute_result"
    }
   ],
   "source": [
    "# Note that k* is defined as alpha * v. Where alpha is the\n",
    "# infinity-norm of the matrix A.\n",
    "\n",
    "infty_norm(matrixA) * v(matrixA, y0, 4)"
   ]
  },
  {
   "cell_type": "code",
   "execution_count": 10,
   "metadata": {},
   "outputs": [
    {
     "data": {
      "text/plain": [
       "524.0567775860627"
      ]
     },
     "execution_count": 10,
     "metadata": {},
     "output_type": "execute_result"
    }
   ],
   "source": [
    "# Python equivalent to MATLAB cond function.\n",
    "\n",
    "np.linalg.cond(matrixA)"
   ]
  },
  {
   "cell_type": "code",
   "execution_count": 11,
   "metadata": {},
   "outputs": [
    {
     "data": {
      "text/plain": [
       "0.0019081901861974792"
      ]
     },
     "execution_count": 11,
     "metadata": {},
     "output_type": "execute_result"
    }
   ],
   "source": [
    "# The rcond function from MATLAB is the reciprocal\n",
    "# of the cond function.\n",
    "\n",
    "1 / np.linalg.cond(matrixA)"
   ]
  },
  {
   "cell_type": "code",
   "execution_count": null,
   "metadata": {},
   "outputs": [],
   "source": []
  }
 ],
 "metadata": {
  "kernelspec": {
   "display_name": "Python 3",
   "language": "python",
   "name": "python3"
  },
  "language_info": {
   "codemirror_mode": {
    "name": "ipython",
    "version": 3
   },
   "file_extension": ".py",
   "mimetype": "text/x-python",
   "name": "python",
   "nbconvert_exporter": "python",
   "pygments_lexer": "ipython3",
   "version": "3.8.3"
  }
 },
 "nbformat": 4,
 "nbformat_minor": 4
}
