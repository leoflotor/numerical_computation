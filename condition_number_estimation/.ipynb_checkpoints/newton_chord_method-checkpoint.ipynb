{
 "cells": [
  {
   "cell_type": "code",
   "execution_count": 59,
   "metadata": {},
   "outputs": [],
   "source": [
    "import numpy as np\n",
    "import sympy as sym\n",
    "from scipy.linalg import lu_solve, lu_factor\n",
    "# from sympy import exp\n",
    "# from sympy.utilities.lambdify import lambdify"
   ]
  },
  {
   "cell_type": "code",
   "execution_count": 60,
   "metadata": {},
   "outputs": [],
   "source": [
    "x, y = sym.symbols('x y')"
   ]
  },
  {
   "cell_type": "code",
   "execution_count": 61,
   "metadata": {},
   "outputs": [],
   "source": [
    "function_1 = 2 * x - y + (1/9) * sym.exp(-x) + 1\n",
    "function_2 = - x + 2 * y + (1/9) * sym.exp(-y) - 1"
   ]
  },
  {
   "cell_type": "code",
   "execution_count": 62,
   "metadata": {},
   "outputs": [],
   "source": [
    "f1 = sym.lambdify((x, y), function_1, \"numpy\")\n",
    "f2 = sym.lambdify((x, y), function_2, \"numpy\")"
   ]
  },
  {
   "cell_type": "code",
   "execution_count": 63,
   "metadata": {},
   "outputs": [],
   "source": [
    "f1x = sym.diff(function_1, x)\n",
    "f1y = sym.diff(function_1, y)\n",
    "\n",
    "f2x = sym.diff(function_2, x)\n",
    "f2y = sym.diff(function_2, y)"
   ]
  },
  {
   "cell_type": "code",
   "execution_count": 64,
   "metadata": {},
   "outputs": [],
   "source": [
    "f1x_prime = sym.lambdify((x, y), f1x, \"numpy\")\n",
    "f1y_prime = sym.lambdify((x, y), f1y, \"numpy\")\n",
    "\n",
    "f2x_prime = sym.lambdify((x, y), f2x, \"numpy\")\n",
    "f2y_prime = sym.lambdify((x, y), f2y, \"numpy\")"
   ]
  },
  {
   "cell_type": "code",
   "execution_count": 65,
   "metadata": {},
   "outputs": [],
   "source": [
    "def matrix_Af(x_value, y_value):\n",
    "    return [[f1x_prime(x_value, y_value), f1y_prime(x_value, y_value)], \n",
    "            [f2x_prime(x_value, y_value), f2y_prime(x_value, y_value)]]"
   ]
  },
  {
   "cell_type": "code",
   "execution_count": 156,
   "metadata": {},
   "outputs": [],
   "source": [
    "def inverse_matrix(matrix):\n",
    "    identity = np.identity(len(matrix))\n",
    "    inverse = np.zeros_like(matrix)\n",
    "\n",
    "    for i in range(0, len(matrix)):\n",
    "        column = lu_solution(matrix, identity[i])\n",
    "        inverse[i] = column\n",
    "    \n",
    "    return inverse"
   ]
  },
  {
   "cell_type": "code",
   "execution_count": 157,
   "metadata": {},
   "outputs": [],
   "source": [
    "def lu_solution(matrix, vector):\n",
    "    \n",
    "    # This will make a copy of the original matrix and column-vector\n",
    "    # which will be used to find the solution x for the system Ax = b.\n",
    "    matrix_A = matrix.copy()\n",
    "    matrix_b = vector.copy()\n",
    "    \n",
    "    # Making sure that float numbers will be used.\n",
    "    matrix_A = np.array(matrix_A, dtype=np.float) #float or float32, or float64 ?\n",
    "    matrix_b = np.array(matrix_b, dtype=np.float)\n",
    "\n",
    "    indx = np.arange(0, matrix_A.shape[0])\n",
    "\n",
    "    for i in range(0, matrix_A.shape[0]-1):\n",
    "        am = np.abs(matrix_A[i, i])\n",
    "        p = i\n",
    "\n",
    "\n",
    "        for j in range(i+1, matrix_A.shape[0]):\n",
    "            if np.abs(matrix_A[j, i]) > am:\n",
    "                am = np.abs(matrix_A[j, i])\n",
    "                p = j\n",
    "\n",
    "        if p > i:        \n",
    "            for k in range(0, matrix_A.shape[0]):\n",
    "                hold = matrix_A[i,k]\n",
    "                matrix_A[i, k] = matrix_A[p, k]\n",
    "                matrix_A[p, k] = hold\n",
    "\n",
    "            ihold = indx[i]\n",
    "            indx[i] = indx[p]\n",
    "            indx[p] = ihold\n",
    "\n",
    "\n",
    "        for j in range(i+1, matrix_A.shape[0]):\n",
    "            matrix_A[j, i] = matrix_A[j, i] / matrix_A[i, i]\n",
    "\n",
    "            for k in range(i+1, matrix_A.shape[0]):\n",
    "                matrix_A[j, k] = matrix_A[j, k] - matrix_A[j, i] * matrix_A[i, k]\n",
    "\n",
    "    # matrix_A\n",
    "    # matrix_b\n",
    "    # indx\n",
    "\n",
    "    x = np.zeros(matrix_A.shape[0])\n",
    "\n",
    "    for k in range(0, matrix_A.shape[0]):\n",
    "        x[k] = matrix_b[indx[k]]\n",
    "\n",
    "    for k in range(0, matrix_A.shape[0]):\n",
    "        matrix_b[k] = x[k]\n",
    "\n",
    "    # x\n",
    "    # matrix_b\n",
    "\n",
    "    y = np.zeros(matrix_A.shape[0])\n",
    "    y[0] = matrix_b[0]\n",
    "\n",
    "    for i in range(1, matrix_A.shape[0]):\n",
    "        sum = 0.0\n",
    "\n",
    "        for j in range(0, i):\n",
    "            sum = sum + matrix_A[i, j] * y[j]\n",
    "\n",
    "        y[i] = (matrix_b[i] - sum)\n",
    "\n",
    "    # y\n",
    "\n",
    "    x[-1] = y[-1] / matrix_A[-1, -1]\n",
    "\n",
    "    for i in range(matrix_A.shape[0]-1, -1, -1):\n",
    "        sum = 0.0\n",
    "\n",
    "        for j in range(i+1, matrix_A.shape[0]):\n",
    "            sum = sum + matrix_A[i, j] * x[j]\n",
    "\n",
    "        x[i] = (y[i] - sum) / matrix_A[i, i]\n",
    "\n",
    "    return x"
   ]
  },
  {
   "cell_type": "code",
   "execution_count": 171,
   "metadata": {},
   "outputs": [
    {
     "data": {
      "text/plain": [
       "array([[ 1.95912451, -1.        ],\n",
       "       [-1.        ,  1.95912451]])"
      ]
     },
     "execution_count": 171,
     "metadata": {},
     "output_type": "execute_result"
    }
   ],
   "source": [
    "matrix_A = np.array(matrix_Af(1,1))\n",
    "matrix_A"
   ]
  },
  {
   "cell_type": "code",
   "execution_count": 170,
   "metadata": {},
   "outputs": [
    {
     "data": {
      "text/plain": [
       "(-0.4830978366142704, 0.2136144974699558)"
      ]
     },
     "execution_count": 170,
     "metadata": {},
     "output_type": "execute_result"
    }
   ],
   "source": [
    "# Using the afore defined function for finding the inverse of a matrix.\n",
    "\n",
    "x0, y0 = 1, 1\n",
    "\n",
    "for i in range(0, 2):\n",
    "    (x0, y0) = (np.array([x0, y0]) \n",
    "                - np.dot(inverse_matrix(matrix_Af(x0, y0)), \n",
    "                         np.array([f1(x0, y0), f2(x0, y0)])\n",
    "                        )\n",
    "               )\n",
    "\n",
    "x0, y0"
   ]
  },
  {
   "cell_type": "code",
   "execution_count": 169,
   "metadata": {},
   "outputs": [
    {
     "data": {
      "text/plain": [
       "(-0.4830978366142705, 0.21361449746995576)"
      ]
     },
     "execution_count": 169,
     "metadata": {},
     "output_type": "execute_result"
    }
   ],
   "source": [
    "x0, y0 = 1, 1\n",
    "\n",
    "for i in range(0, 2):\n",
    "    (x0, y0) = (np.array([x0, y0]) \n",
    "                - np.dot(np.linalg.inv(matrix_Af(x0, y0)), \n",
    "                         np.array([f1(x0, y0), f2(x0, y0)]))\n",
    "               )\n",
    "\n",
    "x0, y0\n",
    "\n",
    "# How to obtain the inverse without using the python function ?\n",
    "# Chapter 7.4 just at the beginning for AX = I."
   ]
  },
  {
   "cell_type": "markdown",
   "metadata": {},
   "source": [
    "# It's neccesary to implement the CHORD method "
   ]
  },
  {
   "cell_type": "code",
   "execution_count": null,
   "metadata": {},
   "outputs": [],
   "source": []
  }
 ],
 "metadata": {
  "kernelspec": {
   "display_name": "Python 3",
   "language": "python",
   "name": "python3"
  },
  "language_info": {
   "codemirror_mode": {
    "name": "ipython",
    "version": 3
   },
   "file_extension": ".py",
   "mimetype": "text/x-python",
   "name": "python",
   "nbconvert_exporter": "python",
   "pygments_lexer": "ipython3",
   "version": "3.8.3"
  }
 },
 "nbformat": 4,
 "nbformat_minor": 4
}
