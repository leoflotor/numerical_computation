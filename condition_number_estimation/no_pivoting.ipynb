{
 "cells": [
  {
   "cell_type": "code",
   "execution_count": 1,
   "metadata": {},
   "outputs": [],
   "source": [
    "import numpy as np\n",
    "from scipy.linalg import lu_solve, lu_factor"
   ]
  },
  {
   "cell_type": "code",
   "execution_count": 2,
   "metadata": {},
   "outputs": [],
   "source": [
    "matrix_test = [\n",
    "    [1, 1/2, 1/3],\n",
    "    [1/2, 1/3, 1/4],\n",
    "    [1/3, 1/4, 1/5]\n",
    "]\n",
    "\n",
    "matrix_test = np.array(matrix_test)"
   ]
  },
  {
   "cell_type": "code",
   "execution_count": 3,
   "metadata": {},
   "outputs": [],
   "source": [
    "# The infinity-norm ||A||_{infinity} of the matrix A is obtained\n",
    "# by calculating the maximum row sum.\n",
    "def infty_norm(matrix):\n",
    "    row_sum = np.array([])\n",
    "\n",
    "    for i in range(0, matrix.shape[0]):\n",
    "        row = np.sum(np.abs(matrix[i]))\n",
    "        row_sum = np.append(row_sum, row)\n",
    "\n",
    "    return row_sum.max()"
   ]
  },
  {
   "cell_type": "code",
   "execution_count": 4,
   "metadata": {},
   "outputs": [
    {
     "data": {
      "text/plain": [
       "1.8333333333333333"
      ]
     },
     "execution_count": 4,
     "metadata": {},
     "output_type": "execute_result"
    }
   ],
   "source": [
    "infty_norm(matrix_test)"
   ]
  },
  {
   "cell_type": "code",
   "execution_count": 5,
   "metadata": {},
   "outputs": [
    {
     "data": {
      "text/plain": [
       "array([0., 1., 2.])"
      ]
     },
     "execution_count": 5,
     "metadata": {},
     "output_type": "execute_result"
    }
   ],
   "source": [
    "# matrix_A = [[4.0, 1.0, 0.0],\n",
    "#             [1.0, 4.0, 1.0],\n",
    "#             [0.0, 1.0, 4.0]]\n",
    "\n",
    "matrix_A = [[4, 2, 0], [2,3,1], [0,1,5/2]]\n",
    "\n",
    "matrix_A = np.array(matrix_A, dtype=np.float64)\n",
    "\n",
    "# matrix_b = [6.0, 12.0, 14.0]\n",
    "\n",
    "matrix_b = [2,5,6]\n",
    "\n",
    "matrix_b = np.array(matrix_b, dtype=np.float64)\n",
    "\n",
    "np.linalg.solve(matrix_A, matrix_b)"
   ]
  },
  {
   "cell_type": "code",
   "execution_count": 6,
   "metadata": {},
   "outputs": [
    {
     "data": {
      "text/plain": [
       "array([[4. , 2. , 0. ],\n",
       "       [0.5, 2. , 1. ],\n",
       "       [0. , 0.5, 2. ]])"
      ]
     },
     "execution_count": 6,
     "metadata": {},
     "output_type": "execute_result"
    }
   ],
   "source": [
    "# LU matrix\n",
    "lu, piv = lu_factor(matrix_A)\n",
    "lu"
   ]
  },
  {
   "cell_type": "code",
   "execution_count": 7,
   "metadata": {},
   "outputs": [
    {
     "data": {
      "text/plain": [
       "array([0., 1., 2.])"
      ]
     },
     "execution_count": 7,
     "metadata": {},
     "output_type": "execute_result"
    }
   ],
   "source": [
    "# Solution\n",
    "lu_solve((lu, piv), matrix_b)"
   ]
  },
  {
   "cell_type": "code",
   "execution_count": 8,
   "metadata": {},
   "outputs": [],
   "source": [
    "# Implementation of the LU decomposition (no pivoting).\n",
    "# The original matrix and vector will be modified.\n",
    "def lu_factorization(matrix, vector):\n",
    "    for i in range(0, matrix.shape[0]-1):\n",
    "\n",
    "        for j in range(i+1, matrix.shape[0]):\n",
    "            matrix[j, i] = matrix[j, i] / matrix[i, i]\n",
    "            \n",
    "            for k in range(i+1, matrix.shape[0]):\n",
    "                matrix[j, k] = matrix[j, k] - matrix[j, i] * matrix[i, k]\n",
    "\n",
    "            vector[j] = vector[j] - matrix[j, i] * vector[i]"
   ]
  },
  {
   "cell_type": "code",
   "execution_count": 9,
   "metadata": {},
   "outputs": [],
   "source": [
    "lu_factorization(matrix_A, matrix_b)"
   ]
  },
  {
   "cell_type": "code",
   "execution_count": 10,
   "metadata": {},
   "outputs": [
    {
     "data": {
      "text/plain": [
       "array([[4. , 2. , 0. ],\n",
       "       [0.5, 2. , 1. ],\n",
       "       [0. , 0.5, 2. ]])"
      ]
     },
     "execution_count": 10,
     "metadata": {},
     "output_type": "execute_result"
    }
   ],
   "source": [
    "matrix_A"
   ]
  },
  {
   "cell_type": "code",
   "execution_count": 11,
   "metadata": {},
   "outputs": [
    {
     "data": {
      "text/plain": [
       "array([2., 4., 4.])"
      ]
     },
     "execution_count": 11,
     "metadata": {},
     "output_type": "execute_result"
    }
   ],
   "source": [
    "matrix_b"
   ]
  },
  {
   "cell_type": "code",
   "execution_count": 12,
   "metadata": {},
   "outputs": [
    {
     "data": {
      "text/plain": [
       "array([0., 1., 2.])"
      ]
     },
     "execution_count": 12,
     "metadata": {},
     "output_type": "execute_result"
    }
   ],
   "source": [
    "x_lower = np.array([matrix_b[0]])\n",
    "\n",
    "for i in range(1, matrix_A.shape[0]):\n",
    "    sum = 0.0\n",
    "    \n",
    "    for j in range(0, i-1):\n",
    "        sum = sum + matrix_A[i, j] * x_lower[j]\n",
    "        \n",
    "    x_lower = np.append(x_lower, matrix_b[i] - sum)\n",
    "\n",
    "# x_lower\n",
    "\n",
    "x_upper = x_lower.copy()\n",
    "x_upper[-1] = x_upper[-1] / matrix_A[-1, -1]\n",
    "# x_upper\n",
    "\n",
    "for i in range(matrix_A.shape[0]-2, -1, -1):\n",
    "    sum = 0.0\n",
    "    \n",
    "    for j in range(i+1, matrix_A.shape[0]):\n",
    "        sum = sum + matrix_A[i, j] * x_upper[j]\n",
    "    \n",
    "    x_upper[i] = (x_upper[i] - sum) / matrix_A[i, i]\n",
    "\n",
    "x_upper\n",
    "\n",
    "# It is not the same result as in teh book: x = {0, 1, 2, 3, 4}.\n",
    "# Could it be to the lack of pivoting ?"
   ]
  }
 ],
 "metadata": {
  "kernelspec": {
   "display_name": "Python 3",
   "language": "python",
   "name": "python3"
  },
  "language_info": {
   "codemirror_mode": {
    "name": "ipython",
    "version": 3
   },
   "file_extension": ".py",
   "mimetype": "text/x-python",
   "name": "python",
   "nbconvert_exporter": "python",
   "pygments_lexer": "ipython3",
   "version": "3.8.3"
  }
 },
 "nbformat": 4,
 "nbformat_minor": 4
}
