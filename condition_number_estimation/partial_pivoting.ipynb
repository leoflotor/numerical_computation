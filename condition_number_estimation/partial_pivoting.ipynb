{
 "cells": [
  {
   "cell_type": "code",
   "execution_count": 1,
   "metadata": {},
   "outputs": [],
   "source": [
    "import numpy as np\n",
    "from scipy.linalg import lu_solve, lu_factor"
   ]
  },
  {
   "cell_type": "code",
   "execution_count": 2,
   "metadata": {},
   "outputs": [],
   "source": [
    "# matrix_A = [[4, 2, 0], [2,3,1], [0,1,5/2]]\n",
    "\n",
    "matrix_A = [[9.0, 3.0, 2.0, 0.0, 7.0], \n",
    "            [7.0, 6.0, 9.0, 6.0, 4.0], \n",
    "            [2.0, 7.0, 7.0, 8.0, 2.0], \n",
    "            [0.0, 9.0, 7.0, 2.0, 2.0], \n",
    "            [7.0, 3.0, 6.0, 4.0, 3.0]]\n",
    "\n",
    "matrix_A = np.array(matrix_A, dtype=np.float64)\n",
    "\n",
    "# matrix_b = [2,5,6]\n",
    "\n",
    "matrix_b = [35.0, 58.0, 53.0, 37.0, 39.0]\n",
    "\n",
    "matrix_b = np.array(matrix_b, dtype=np.float64)"
   ]
  },
  {
   "cell_type": "code",
   "execution_count": 3,
   "metadata": {},
   "outputs": [
    {
     "data": {
      "text/plain": [
       "array([[ 9.        ,  3.        ,  2.        ,  0.        ,  7.        ],\n",
       "       [ 0.        ,  9.        ,  7.        ,  2.        ,  2.        ],\n",
       "       [ 0.77777778,  0.40740741,  4.59259259,  5.18518519, -2.25925926],\n",
       "       [ 0.22222222,  0.7037037 ,  0.35483871,  4.75268817, -0.16129032],\n",
       "       [ 0.77777778,  0.07407407,  0.85483871, -0.12217195, -0.68099548]])"
      ]
     },
     "execution_count": 3,
     "metadata": {},
     "output_type": "execute_result"
    }
   ],
   "source": [
    "lu, piv = lu_factor(matrix_A)\n",
    "lu"
   ]
  },
  {
   "cell_type": "code",
   "execution_count": 4,
   "metadata": {},
   "outputs": [
    {
     "data": {
      "text/plain": [
       "array([1.25825276e-15, 1.00000000e+00, 2.00000000e+00, 3.00000000e+00,\n",
       "       4.00000000e+00])"
      ]
     },
     "execution_count": 4,
     "metadata": {},
     "output_type": "execute_result"
    }
   ],
   "source": [
    "lu_solve((lu, piv), matrix_b)"
   ]
  },
  {
   "cell_type": "code",
   "execution_count": 5,
   "metadata": {},
   "outputs": [
    {
     "data": {
      "text/plain": [
       "array([[ 9.        ,  3.        ,  2.        ,  0.        ,  7.        ],\n",
       "       [ 0.        ,  9.        ,  7.        ,  2.        ,  2.        ],\n",
       "       [ 0.77777778,  0.40740741,  4.59259259,  5.18518519, -2.25925926],\n",
       "       [ 0.22222222,  0.7037037 ,  0.35483871,  4.75268817, -0.16129032],\n",
       "       [ 0.77777778,  0.07407407,  0.85483871, -0.12217195, -0.68099548]])"
      ]
     },
     "execution_count": 5,
     "metadata": {},
     "output_type": "execute_result"
    }
   ],
   "source": [
    "indx = np.arange(0, matrix_A.shape[0])\n",
    "\n",
    "for i in range(0, matrix_A.shape[0]-1):\n",
    "    am = np.abs(matrix_A[i, i])\n",
    "    p = i\n",
    "    \n",
    "    \n",
    "    for j in range(i+1, matrix_A.shape[0]):\n",
    "        if np.abs(matrix_A[j, i]) > am:\n",
    "            am = np.abs(matrix_A[j, i])\n",
    "            p = j\n",
    "    \n",
    "    if p > i:        \n",
    "        for k in range(0, matrix_A.shape[0]):\n",
    "            hold = matrix_A[i,k]\n",
    "            matrix_A[i, k] = matrix_A[p, k]\n",
    "            matrix_A[p, k] = hold\n",
    "        \n",
    "        ihold = indx[i]\n",
    "        indx[i] = indx[p]\n",
    "        indx[p] = ihold\n",
    "        \n",
    "    \n",
    "    for j in range(i+1, matrix_A.shape[0]):\n",
    "        matrix_A[j, i] = matrix_A[j, i] / matrix_A[i, i]\n",
    "        \n",
    "        for k in range(i+1, matrix_A.shape[0]):\n",
    "            matrix_A[j, k] = matrix_A[j, k] - matrix_A[j, i] * matrix_A[i, k]\n",
    "            \n",
    "matrix_A"
   ]
  },
  {
   "cell_type": "code",
   "execution_count": 6,
   "metadata": {},
   "outputs": [
    {
     "data": {
      "text/plain": [
       "array([35., 58., 53., 37., 39.])"
      ]
     },
     "execution_count": 6,
     "metadata": {},
     "output_type": "execute_result"
    }
   ],
   "source": [
    "matrix_b"
   ]
  },
  {
   "cell_type": "code",
   "execution_count": 7,
   "metadata": {},
   "outputs": [
    {
     "data": {
      "text/plain": [
       "array([0, 3, 1, 2, 4])"
      ]
     },
     "execution_count": 7,
     "metadata": {},
     "output_type": "execute_result"
    }
   ],
   "source": [
    "indx"
   ]
  },
  {
   "cell_type": "code",
   "execution_count": 8,
   "metadata": {},
   "outputs": [
    {
     "data": {
      "text/plain": [
       "array([35., 37., 58., 53., 39.])"
      ]
     },
     "execution_count": 8,
     "metadata": {},
     "output_type": "execute_result"
    }
   ],
   "source": [
    "x = np.zeros(matrix_A.shape[0])\n",
    "\n",
    "for k in range(0, matrix_A.shape[0]):\n",
    "    x[k] = matrix_b[indx[k]]\n",
    "    \n",
    "for k in range(0, matrix_A.shape[0]):\n",
    "    matrix_b[k] = x[k]\n",
    "    \n",
    "x"
   ]
  },
  {
   "cell_type": "code",
   "execution_count": 9,
   "metadata": {},
   "outputs": [
    {
     "data": {
      "text/plain": [
       "array([35., 37., 58., 53., 39.])"
      ]
     },
     "execution_count": 9,
     "metadata": {},
     "output_type": "execute_result"
    }
   ],
   "source": [
    "matrix_b"
   ]
  },
  {
   "cell_type": "code",
   "execution_count": 10,
   "metadata": {},
   "outputs": [
    {
     "data": {
      "text/plain": [
       "array([35.        , 37.        , 15.7037037 , 13.61290323, -2.7239819 ])"
      ]
     },
     "execution_count": 10,
     "metadata": {},
     "output_type": "execute_result"
    }
   ],
   "source": [
    "y = np.zeros(matrix_A.shape[0])\n",
    "y[0] = matrix_b[0]\n",
    "\n",
    "for i in range(1, matrix_A.shape[0]):\n",
    "    sum = 0.0\n",
    "    \n",
    "    for j in range(0, i):\n",
    "        sum = sum + matrix_A[i, j] * y[j]\n",
    "    \n",
    "    y[i] = (matrix_b[i] - sum)\n",
    "    \n",
    "y"
   ]
  },
  {
   "cell_type": "code",
   "execution_count": 11,
   "metadata": {},
   "outputs": [
    {
     "data": {
      "text/plain": [
       "array([-6.31593543e-15,  1.00000000e+00,  2.00000000e+00,  3.00000000e+00,\n",
       "        4.00000000e+00])"
      ]
     },
     "execution_count": 11,
     "metadata": {},
     "output_type": "execute_result"
    }
   ],
   "source": [
    "x[-1] = y[-1] / matrix_A[-1, -1]\n",
    "\n",
    "for i in range(matrix_A.shape[0]-1, -1, -1):\n",
    "    sum = 0.0\n",
    "    \n",
    "    for j in range(i+1, matrix_A.shape[0]):\n",
    "        sum = sum + matrix_A[i, j] * x[j]\n",
    "    \n",
    "    x[i] = (y[i] - sum) / matrix_A[i, i]\n",
    "    \n",
    "x"
   ]
  },
  {
   "cell_type": "code",
   "execution_count": null,
   "metadata": {},
   "outputs": [],
   "source": []
  },
  {
   "cell_type": "code",
   "execution_count": null,
   "metadata": {},
   "outputs": [],
   "source": []
  },
  {
   "cell_type": "code",
   "execution_count": null,
   "metadata": {},
   "outputs": [],
   "source": []
  }
 ],
 "metadata": {
  "kernelspec": {
   "display_name": "Python 3",
   "language": "python",
   "name": "python3"
  },
  "language_info": {
   "codemirror_mode": {
    "name": "ipython",
    "version": 3
   },
   "file_extension": ".py",
   "mimetype": "text/x-python",
   "name": "python",
   "nbconvert_exporter": "python",
   "pygments_lexer": "ipython3",
   "version": "3.8.3"
  }
 },
 "nbformat": 4,
 "nbformat_minor": 4
}
