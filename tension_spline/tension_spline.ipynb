{
 "cells": [
  {
   "cell_type": "code",
   "execution_count": 1,
   "metadata": {},
   "outputs": [],
   "source": [
    "import numpy as np\n",
    "import matplotlib.pyplot as plt\n",
    "from numpy import sinh, cosh"
   ]
  },
  {
   "cell_type": "code",
   "execution_count": 2,
   "metadata": {},
   "outputs": [],
   "source": [
    "# Initial matrixes A x = f:\n",
    "# a -> A\n",
    "# b -> f\n",
    "\n",
    "matrix_a = [\n",
    "    [4.0, 1.0, 0.0, 0.0],\n",
    "    [1.0, 4.0, 1.0, 0.0],\n",
    "    [0.0, 1.0, 4.0, 1.0],\n",
    "    [0.0, 0.0, 1.0, 4.0]\n",
    "]\n",
    "matrix_a = np.array(matrix_a)"
   ]
  },
  {
   "cell_type": "code",
   "execution_count": 3,
   "metadata": {},
   "outputs": [],
   "source": [
    "matrix_b = [6.0, 12.0, 18.0, 19.0]\n",
    "matrix_b = np.array(matrix_b)"
   ]
  },
  {
   "cell_type": "code",
   "execution_count": 4,
   "metadata": {},
   "outputs": [
    {
     "data": {
      "text/plain": [
       "array([1., 2., 3., 4.])"
      ]
     },
     "execution_count": 4,
     "metadata": {},
     "output_type": "execute_result"
    }
   ],
   "source": [
    "# The solution using the python function\n",
    "np.linalg.solve(matrix_a, matrix_b)"
   ]
  },
  {
   "cell_type": "code",
   "execution_count": 5,
   "metadata": {},
   "outputs": [],
   "source": [
    "# Function to find the coefficients of a linear system of the form A x = f.\n",
    "# Where A is a tridiagonal matrix, f is a vector with the function values,\n",
    "# and x is a vector which we want to find its components to solve the system.\n",
    "\n",
    "def solution_coefficients(matrix_A, vector_f):\n",
    "    matrix = matrix_A.copy()\n",
    "    vector = vector_f.copy()\n",
    "    \n",
    "    for i in range(1, np.shape(matrix)[0]):\n",
    "        vector[i] = vector[i] - (matrix[i, i-1] / matrix[i-1, i-1]) * vector[i-1]\n",
    "        matrix[i] = matrix[i] - (matrix[i, i-1] / matrix[i-1, i-1]) * matrix[i-1]\n",
    "    \n",
    "    coefficients = np.array([vector[-1] / matrix[-1, -1]])\n",
    "    \n",
    "    for i in range(np.shape(matrix)[0] - 2, -1, -1):\n",
    "        x = (vector[i] - matrix[i, i+1] * coefficients[0]) / matrix[i, i]\n",
    "        coefficients = np.insert(coefficients, 0, x)\n",
    "        \n",
    "    return coefficients"
   ]
  },
  {
   "cell_type": "code",
   "execution_count": 6,
   "metadata": {},
   "outputs": [
    {
     "data": {
      "text/plain": [
       "array([1., 2., 3., 4.])"
      ]
     },
     "execution_count": 6,
     "metadata": {},
     "output_type": "execute_result"
    }
   ],
   "source": [
    "# The order of the coefficients is as follows:\n",
    "# sol = {sol_0, sol_1, sol_2, ... , sol_n}\n",
    "\n",
    "solution_coefficients(matrix_a, matrix_b)"
   ]
  },
  {
   "cell_type": "code",
   "execution_count": 7,
   "metadata": {},
   "outputs": [],
   "source": [
    "nodes_x = [0.0, 1.0, 1.8, 5.1, 8.3, 9.7, 11.0, 14.5, 18.0, 19.2, 20.4, 23.6, 25.0]\n",
    "nodes_y = [1.3, 1.35, 2.9, 3.4, 3.8, 5.6, 7.2, 7.2, 7.2, 5.9, 4.6, 4.6, 0.0]\n",
    "tau_values = [0.25, 4.0, 10.0]"
   ]
  },
  {
   "cell_type": "code",
   "execution_count": 8,
   "metadata": {},
   "outputs": [],
   "source": [
    "def h(i, x_nodes):\n",
    "    return x_nodes[i+1] - x_nodes[i]"
   ]
  },
  {
   "cell_type": "code",
   "execution_count": 9,
   "metadata": {},
   "outputs": [],
   "source": [
    "def alpha(i, tau, x_nodes):\n",
    "    return (1 / h(i, x_nodes)) - (tau / sinh(tau * h(i, x_nodes)))"
   ]
  },
  {
   "cell_type": "code",
   "execution_count": 10,
   "metadata": {},
   "outputs": [],
   "source": [
    "def beta(i, tau, x_nodes):\n",
    "    return (tau * cosh(tau * h(i, x_nodes)) / sinh(tau * h(i, x_nodes))) - (1 / h(i, x_nodes))"
   ]
  },
  {
   "cell_type": "code",
   "execution_count": 11,
   "metadata": {},
   "outputs": [],
   "source": [
    "def gamma(i, tau, x_nodes, y_nodes):\n",
    "    return tau**2 * (y_nodes[i+1] - y_nodes[i]) / h(i, x_nodes)"
   ]
  },
  {
   "cell_type": "code",
   "execution_count": 12,
   "metadata": {},
   "outputs": [],
   "source": [
    "# The form of the system of equations is:\n",
    "# alpha(i-1) z(i-1) + (beta(i-1) + beta(i)) z(i) + alpha(i) z(i+1) = gamma(i) - gamma(i-1)\n",
    "# The system of equations depends on the length of the set of nodes/knots\n",
    "def coefficients(tau, x_nodes, y_nodes):\n",
    "    matrix_alpha_beta = np.zeros((len(x_nodes) - 2, len(x_nodes)))\n",
    "    column_vector_gamma = np.zeros(len(x_nodes) - 2)\n",
    "    \n",
    "    # Generatingthe system of equations by row\n",
    "    for i in range(1, len(x_nodes) - 1):\n",
    "        matrix_alpha_beta[i - 1, i - 1] = alpha(i - 1, tau, x_nodes)\n",
    "        matrix_alpha_beta[i - 1, i] = (beta(i - 1, tau, x_nodes) + beta(i, tau, x_nodes))\n",
    "        matrix_alpha_beta[i - 1, i + 1] = alpha(i, tau, x_nodes)\n",
    "        \n",
    "        column_vector_gamma[i - 1] = (gamma(i, tau, x_nodes, y_nodes) - gamma(i - 1, tau, x_nodes, y_nodes))\n",
    "        \n",
    "    matrix_alpha_beta = matrix_alpha_beta[:,1:-1]\n",
    "        \n",
    "    coefficients_z = solution_coefficients(matrix_alpha_beta, column_vector_gamma)\n",
    "    coefficients_z = np.insert(coefficients_z, 0, 0)\n",
    "    coefficients_z = np.append(coefficients_z, 0)\n",
    "    \n",
    "    return coefficients_z"
   ]
  },
  {
   "cell_type": "code",
   "execution_count": 13,
   "metadata": {},
   "outputs": [],
   "source": [
    "def interpolation_function(i, x, tau, x_nodes, y_nodes):\n",
    "    coeff = coefficients(tau, x_nodes, y_nodes)\n",
    "    \n",
    "    solution = ((coeff[i] * sinh(tau * (x_nodes[i+1] - x))\n",
    "                + coeff[i+1] * sinh(tau * (x - x_nodes[i]))) / (tau**2 * sinh(tau * h(i, x_nodes))) \n",
    "                + (y_nodes[i] - coeff[i] / tau**2) * (x_nodes[i+1] - x) / h(i, x_nodes) \n",
    "                + (y_nodes[i+1] - coeff[i+1] / tau**2) * (x - x_nodes[i]) / h(i, x_nodes))\n",
    "    \n",
    "    return solution"
   ]
  },
  {
   "cell_type": "code",
   "execution_count": 14,
   "metadata": {},
   "outputs": [],
   "source": [
    "def interval(i, delta_x, tau, x_nodes, y_nodes):\n",
    "    # Condition to include the last node in the last interval, because the arange\n",
    "    # function does not include the last value the specified interval.\n",
    "    k = 0\n",
    "    if i == len(x_nodes) - 2:\n",
    "        k = delta_x\n",
    "        \n",
    "    interval_x = np.arange(x_nodes[i], x_nodes[i+1] + k, delta_x)\n",
    "    interpolated_y_values = interpolation_function(i, interval_x, tau, x_nodes, y_nodes)\n",
    "    \n",
    "    return interval_x, interpolated_y_values;"
   ]
  },
  {
   "cell_type": "code",
   "execution_count": 45,
   "metadata": {},
   "outputs": [
    {
     "data": {
      "image/png": "[encoded data removed]",
      "text/plain": [
       "<Figure size 720x720 with 1 Axes>"
      ]
     },
     "metadata": {
      "needs_background": "light"
     },
     "output_type": "display_data"
    }
   ],
   "source": [
    "plt.figure(figsize=(10,10))\n",
    "\n",
    "for tau in tau_values:    \n",
    "    x_set = np.array([])\n",
    "    y_set = np.array([])\n",
    "\n",
    "    for i in range(0, len(nodes_x)-1):\n",
    "        x_vals, y_vals = interval(i, 0.1, tau, nodes_x, nodes_y)\n",
    "        x_set = np.append(x_set, x_vals)\n",
    "        y_set = np.append(y_set, y_vals)\n",
    "\n",
    "    plt.plot(nodes_x, nodes_y, 'o', color='red', alpha=0.5)\n",
    "    plt.plot(x_set, y_set, '-.', label=tau)\n",
    "    plt.title('Tension Spline')\n",
    "    plt.axis('scaled')\n",
    "    \n",
    "plt.legend(loc='best')\n",
    "plt.grid()\n"
   ]
  },
  {
   "cell_type": "code",
   "execution_count": null,
   "metadata": {},
   "outputs": [],
   "source": []
  }
 ],
 "metadata": {
  "kernelspec": {
   "display_name": "Python 3",
   "language": "python",
   "name": "python3"
  },
  "language_info": {
   "codemirror_mode": {
    "name": "ipython",
    "version": 3
   },
   "file_extension": ".py",
   "mimetype": "text/x-python",
   "name": "python",
   "nbconvert_exporter": "python",
   "pygments_lexer": "ipython3",
   "version": "3.8.3"
  }
 },
 "nbformat": 4,
 "nbformat_minor": 4
}
