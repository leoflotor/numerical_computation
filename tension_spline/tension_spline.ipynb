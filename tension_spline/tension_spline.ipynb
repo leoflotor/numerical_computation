{
 "cells": [
  {
   "cell_type": "code",
   "execution_count": 1,
   "metadata": {},
   "outputs": [],
   "source": [
    "import numpy as np\n",
    "import matplotlib.pyplot as plt\n",
    "from numpy import sinh, cosh"
   ]
  },
  {
   "cell_type": "code",
   "execution_count": 2,
   "metadata": {},
   "outputs": [],
   "source": [
    "# Initial matrixes A x = f:\n",
    "# a -> A\n",
    "# b -> f\n",
    "\n",
    "matrix_a = [\n",
    "    [4.0, 1.0, 0.0, 0.0],\n",
    "    [1.0, 4.0, 1.0, 0.0],\n",
    "    [0.0, 1.0, 4.0, 1.0],\n",
    "    [0.0, 0.0, 1.0, 4.0]\n",
    "]\n",
    "matrix_a = np.array(matrix_a)"
   ]
  },
  {
   "cell_type": "code",
   "execution_count": 3,
   "metadata": {},
   "outputs": [],
   "source": [
    "matrix_b = [6.0, 12.0, 18.0, 19.0]\n",
    "matrix_b = np.array(matrix_b)"
   ]
  },
  {
   "cell_type": "code",
   "execution_count": 4,
   "metadata": {},
   "outputs": [
    {
     "data": {
      "text/plain": [
       "array([1., 2., 3., 4.])"
      ]
     },
     "execution_count": 4,
     "metadata": {},
     "output_type": "execute_result"
    }
   ],
   "source": [
    "# The solution using the python function\n",
    "np.linalg.solve(matrix_a, matrix_b)"
   ]
  },
  {
   "cell_type": "code",
   "execution_count": 2,
   "metadata": {},
   "outputs": [],
   "source": [
    "# Function to find the coefficients of a linear system of the form A x = f.\n",
    "# Where A is a tridiagonal matrix, f is a vector with the function values,\n",
    "# and x is a vector which we want to find its components to solve the system.\n",
    "\n",
    "def solution_coefficients(matrix_A, vector_f):\n",
    "    matrix = matrix_A.copy()\n",
    "    vector = vector_f.copy()\n",
    "    \n",
    "    for i in range(1, np.shape(matrix)[0]):\n",
    "        vector[i] = vector[i] - (matrix[i, i-1] / matrix[i-1, i-1]) * vector[i-1]\n",
    "        matrix[i] = matrix[i] - (matrix[i, i-1] / matrix[i-1, i-1]) * matrix[i-1]\n",
    "    \n",
    "    coefficients = np.array([vector[-1] / matrix[-1, -1]])\n",
    "    \n",
    "    for i in range(np.shape(matrix)[0] - 2, -1, -1):\n",
    "        x = (vector[i] - matrix[i, i+1] * coefficients[0]) / matrix[i, i]\n",
    "        coefficients = np.insert(coefficients, 0, x)\n",
    "        \n",
    "    return coefficients"
   ]
  },
  {
   "cell_type": "code",
   "execution_count": 6,
   "metadata": {},
   "outputs": [
    {
     "data": {
      "text/plain": [
       "array([1., 2., 3., 4.])"
      ]
     },
     "execution_count": 6,
     "metadata": {},
     "output_type": "execute_result"
    }
   ],
   "source": [
    "# The order of the coefficients is as follows:\n",
    "# sol = {sol_0, sol_1, sol_2, ... , sol_n}\n",
    "\n",
    "solution_coefficients(matrix_a, matrix_b)"
   ]
  },
  {
   "cell_type": "markdown",
   "metadata": {},
   "source": [
    "Now, I shall generate the matrix to find the $z_{i}$ coefficients for the tension spline. With the funciton defined above *solution_coefficients* I can solve the resulting system of equations."
   ]
  },
  {
   "cell_type": "code",
   "execution_count": 3,
   "metadata": {},
   "outputs": [],
   "source": [
    "nodes_x = [0.0, 1.0, 1.8, 5.1, 8.3, 9.7, 11.0, 14.5, 18.0, 19.2, 20.4, 23.6, 25.0]\n",
    "nodes_y = [1.3, 1.35, 2.9, 3.4, 3.8, 5.6, 7.2, 7.2, 7.2, 5.9, 4.6, 4.6, 0.0]\n",
    "tau = 4.0"
   ]
  },
  {
   "cell_type": "code",
   "execution_count": 4,
   "metadata": {},
   "outputs": [],
   "source": [
    "# MUST CHECK THE DEFINITION for h here. There is something odd with the indexes. \n",
    "def h(i):\n",
    "    return nodes_x[i+1] - nodes_x[i]"
   ]
  },
  {
   "cell_type": "code",
   "execution_count": 5,
   "metadata": {},
   "outputs": [],
   "source": [
    "def alpha(i):\n",
    "    return (1 / h(i)) - (tau / sinh(tau * h(i)))"
   ]
  },
  {
   "cell_type": "code",
   "execution_count": 6,
   "metadata": {},
   "outputs": [],
   "source": [
    "def beta(i):\n",
    "    return (tau * cosh(tau * h(i)) / sinh(tau * h(i))) - (1 / h(i))"
   ]
  },
  {
   "cell_type": "code",
   "execution_count": 7,
   "metadata": {},
   "outputs": [],
   "source": [
    "def gamma(i):\n",
    "    return tau**2 * (nodes_y[i+1] - nodes_y[i]) / h(i)"
   ]
  },
  {
   "cell_type": "code",
   "execution_count": 77,
   "metadata": {},
   "outputs": [],
   "source": [
    "# alpha(i-1) z(i-1) + (beta(i-1) + beta(i)) z(i) + alpha(i) z(i+1) = gamma(i) - gamma(i-1)\n",
    "def system_of_equations(nodes):\n",
    "    matrix_alpha_beta = np.zeros((len(nodes) - 2, len(nodes)))\n",
    "    column_vector_gamma = []\n",
    "    \n",
    "    # Generatingthe system of equations by row\n",
    "    for i in range(1, len(nodes)-1):\n",
    "        matrix_alpha_beta[i-1, i-1] = alpha(i-1)\n",
    "        matrix_alpha_beta[i-1, i] = (beta(i-1) + beta(i))\n",
    "        matrix_alpha_beta[i-1, i+1] = alpha(i)\n",
    "        \n",
    "        vector_element = (gamma(i) - gamma(i-1))         \n",
    "        column_vector_gamma.append(vector_element)\n",
    "\n",
    "    column_vector_gamma = np.array(column_vector_gamma)\n",
    "    matrix_alpha_beta = matrix_alpha_beta[:,1:-1]\n",
    "    \n",
    "    return matrix_alpha_beta, column_vector_gamma; "
   ]
  },
  {
   "cell_type": "code",
   "execution_count": 78,
   "metadata": {},
   "outputs": [],
   "source": [
    "matrix_alff, ganna = system_of_equations(nodes_x)"
   ]
  },
  {
   "cell_type": "code",
   "execution_count": 80,
   "metadata": {},
   "outputs": [
    {
     "data": {
      "text/plain": [
       "array([ 3.02000000e+01, -2.85757576e+01, -4.24242424e-01,  1.85714286e+01,\n",
       "       -8.79120879e-01, -1.96923077e+01,  0.00000000e+00, -1.73333333e+01,\n",
       "       -1.06581410e-14,  1.73333333e+01, -5.25714286e+01])"
      ]
     },
     "execution_count": 80,
     "metadata": {},
     "output_type": "execute_result"
    }
   ],
   "source": [
    "ganna"
   ]
  },
  {
   "cell_type": "code",
   "execution_count": 8,
   "metadata": {},
   "outputs": [],
   "source": [
    "matrix_z = []\n",
    "vector_gamma = []\n",
    "\n",
    "for i in range(1, len(nodes_x)-1):\n",
    "    # vector_element = tau**2 * (nodes_y[i+1] - nodes_y[i]) / h(i)\n",
    "    vector_element = (gamma(i) - gamma(i-1)) \n",
    "    row = np.array([alpha(i-1), (beta(i-1) + beta(i)), alpha(i)])\n",
    "    vector_gamma.append(vector_element)\n",
    "    matrix_z.append(row)\n",
    "\n",
    "vector_gamma = np.array(vector_gamma)    \n",
    "matrix_z = np.array(matrix_z)\n",
    "\n",
    "\n",
    "matrix_z[0, 0] = 0\n",
    "matrix_z[-1, -1] = 0"
   ]
  },
  {
   "cell_type": "code",
   "execution_count": 13,
   "metadata": {},
   "outputs": [
    {
     "data": {
      "text/plain": [
       "array([[0.        , 5.76599918, 0.92335964],\n",
       "       [0.92335964, 6.46028428, 0.3030155 ],\n",
       "       [0.3030155 , 7.3844697 , 0.31247791],\n",
       "       [0.31247791, 6.97332368, 0.6847024 ],\n",
       "       [0.6847024 , 6.51683638, 0.72509691],\n",
       "       [0.72509691, 6.94529841, 0.28570763],\n",
       "       [0.28570763, 7.42857143, 0.28570763],\n",
       "       [0.28570763, 6.88149425, 0.7674909 ],\n",
       "       [0.7674909 , 6.33441707, 0.7674909 ],\n",
       "       [0.7674909 , 6.85470853, 0.31247791],\n",
       "       [0.31247791, 6.97332368, 0.        ]])"
      ]
     },
     "execution_count": 13,
     "metadata": {},
     "output_type": "execute_result"
    }
   ],
   "source": [
    "matrix_z"
   ]
  },
  {
   "cell_type": "code",
   "execution_count": 14,
   "metadata": {},
   "outputs": [
    {
     "data": {
      "text/plain": [
       "array([ 3.02000000e+01, -2.85757576e+01, -4.24242424e-01,  1.85714286e+01,\n",
       "       -8.79120879e-01, -1.96923077e+01,  0.00000000e+00, -1.73333333e+01,\n",
       "       -1.06581410e-14,  1.73333333e+01, -5.25714286e+01])"
      ]
     },
     "execution_count": 14,
     "metadata": {},
     "output_type": "execute_result"
    }
   ],
   "source": [
    "vector_gamma"
   ]
  },
  {
   "cell_type": "code",
   "execution_count": 9,
   "metadata": {},
   "outputs": [],
   "source": [
    "test_matrix = np.zeros((len(nodes_x) - 2, len(nodes_x)))\n",
    "\n",
    "for i in range(1, len(nodes_x)-1):\n",
    "    test_matrix[i-1, i-1] = alpha(i-1)\n",
    "    test_matrix[i-1, i] = (beta(i-1) + beta(i))\n",
    "    test_matrix[i-1, i+1] = alpha(i)\n",
    "\n",
    "test_matrix = test_matrix[:,1:-1]"
   ]
  },
  {
   "cell_type": "code",
   "execution_count": 16,
   "metadata": {},
   "outputs": [
    {
     "data": {
      "text/plain": [
       "array([[5.76599918, 0.92335964, 0.        , 0.        , 0.        ,\n",
       "        0.        , 0.        , 0.        , 0.        , 0.        ,\n",
       "        0.        ],\n",
       "       [0.92335964, 6.46028428, 0.3030155 , 0.        , 0.        ,\n",
       "        0.        , 0.        , 0.        , 0.        , 0.        ,\n",
       "        0.        ],\n",
       "       [0.        , 0.3030155 , 7.3844697 , 0.31247791, 0.        ,\n",
       "        0.        , 0.        , 0.        , 0.        , 0.        ,\n",
       "        0.        ],\n",
       "       [0.        , 0.        , 0.31247791, 6.97332368, 0.6847024 ,\n",
       "        0.        , 0.        , 0.        , 0.        , 0.        ,\n",
       "        0.        ],\n",
       "       [0.        , 0.        , 0.        , 0.6847024 , 6.51683638,\n",
       "        0.72509691, 0.        , 0.        , 0.        , 0.        ,\n",
       "        0.        ],\n",
       "       [0.        , 0.        , 0.        , 0.        , 0.72509691,\n",
       "        6.94529841, 0.28570763, 0.        , 0.        , 0.        ,\n",
       "        0.        ],\n",
       "       [0.        , 0.        , 0.        , 0.        , 0.        ,\n",
       "        0.28570763, 7.42857143, 0.28570763, 0.        , 0.        ,\n",
       "        0.        ],\n",
       "       [0.        , 0.        , 0.        , 0.        , 0.        ,\n",
       "        0.        , 0.28570763, 6.88149425, 0.7674909 , 0.        ,\n",
       "        0.        ],\n",
       "       [0.        , 0.        , 0.        , 0.        , 0.        ,\n",
       "        0.        , 0.        , 0.7674909 , 6.33441707, 0.7674909 ,\n",
       "        0.        ],\n",
       "       [0.        , 0.        , 0.        , 0.        , 0.        ,\n",
       "        0.        , 0.        , 0.        , 0.7674909 , 6.85470853,\n",
       "        0.31247791],\n",
       "       [0.        , 0.        , 0.        , 0.        , 0.        ,\n",
       "        0.        , 0.        , 0.        , 0.        , 0.31247791,\n",
       "        6.97332368]])"
      ]
     },
     "execution_count": 16,
     "metadata": {},
     "output_type": "execute_result"
    }
   ],
   "source": [
    "test_matrix"
   ]
  },
  {
   "cell_type": "code",
   "execution_count": 64,
   "metadata": {},
   "outputs": [
    {
     "data": {
      "text/plain": [
       "array([ 6.08558247, -5.29529705,  0.04681434,  2.67095864, -0.10027571,\n",
       "       -2.83334852,  0.20598984, -2.52251209, -0.04369271,  2.88312592,\n",
       "       -7.66812846])"
      ]
     },
     "execution_count": 64,
     "metadata": {},
     "output_type": "execute_result"
    }
   ],
   "source": [
    "coefficients_z = solution_coefficients(test_matrix, vector_gamma)\n",
    "coefficients_z"
   ]
  },
  {
   "cell_type": "code",
   "execution_count": 65,
   "metadata": {},
   "outputs": [
    {
     "data": {
      "text/plain": [
       "array([ 6.08558247, -5.29529705,  0.04681434,  2.67095864, -0.10027571,\n",
       "       -2.83334852,  0.20598984, -2.52251209, -0.04369271,  2.88312592,\n",
       "       -7.66812846])"
      ]
     },
     "execution_count": 65,
     "metadata": {},
     "output_type": "execute_result"
    }
   ],
   "source": [
    "np.linalg.solve(test_matrix, vector_gamma)"
   ]
  },
  {
   "cell_type": "code",
   "execution_count": 66,
   "metadata": {},
   "outputs": [],
   "source": [
    "coefficients_z = np.insert(coefficients_z, 0, 0)\n",
    "coefficients_z = np.append(coefficients_z, 0)"
   ]
  },
  {
   "cell_type": "code",
   "execution_count": 67,
   "metadata": {},
   "outputs": [
    {
     "data": {
      "text/plain": [
       "array([ 0.        ,  6.08558247, -5.29529705,  0.04681434,  2.67095864,\n",
       "       -0.10027571, -2.83334852,  0.20598984, -2.52251209, -0.04369271,\n",
       "        2.88312592, -7.66812846,  0.        ])"
      ]
     },
     "execution_count": 67,
     "metadata": {},
     "output_type": "execute_result"
    }
   ],
   "source": [
    "coefficients_z"
   ]
  },
  {
   "cell_type": "code",
   "execution_count": 68,
   "metadata": {},
   "outputs": [],
   "source": [
    "def interpolation_function(i, x):    \n",
    "    solution = ((coefficients_z[i] * sinh(tau * (nodes_x[i+1] - x))\n",
    "                + coefficients_z[i+1] * sinh(tau * (x - nodes_x[i]))) / (tau**2 * sinh(tau * h(i))) \n",
    "                + (nodes_y[i] - coefficients_z[i] / tau**2) * (nodes_x[i+1] - x) / h(i) \n",
    "                + (nodes_y[i+1] - coefficients_z[i+1] / tau**2) * (x - nodes_x[i]) / h(i))\n",
    "    return solution"
   ]
  },
  {
   "cell_type": "code",
   "execution_count": 70,
   "metadata": {},
   "outputs": [
    {
     "data": {
      "text/plain": [
       "array([1.3       , 1.27268991, 1.24630806, 1.22193321, 1.20096954,\n",
       "       1.18537434, 1.17797536, 1.18292933, 1.20639595, 1.25753663])"
      ]
     },
     "execution_count": 70,
     "metadata": {},
     "output_type": "execute_result"
    }
   ],
   "source": [
    "interval_x1 = np.arange(nodes_x[0], nodes_x[1], 0.1)\n",
    "interpolated_y1 = interpolation_function(0, interval_x1)\n",
    "interpolated_y1"
   ]
  },
  {
   "cell_type": "code",
   "execution_count": 71,
   "metadata": {},
   "outputs": [
    {
     "data": {
      "text/plain": [
       "array([1.35      , 1.49564873, 1.68075287, 1.88949374, 2.10988525,\n",
       "       2.33183038, 2.54548402, 2.73965665])"
      ]
     },
     "execution_count": 71,
     "metadata": {},
     "output_type": "execute_result"
    }
   ],
   "source": [
    "interval_x2 = np.arange(nodes_x[1], nodes_x[2], 0.1)\n",
    "interpolated_y2 = interpolation_function(1, interval_x2)\n",
    "interpolated_y2"
   ]
  },
  {
   "cell_type": "code",
   "execution_count": 73,
   "metadata": {},
   "outputs": [
    {
     "data": {
      "text/plain": [
       "array([2.9       , 3.01414346, 3.09231569, 3.14637567, 3.18427273,\n",
       "       3.21133547, 3.23113575, 3.24606785, 3.25773674, 3.26721823,\n",
       "       3.27523349, 3.28226593, 3.2886396 , 3.29457175, 3.30020802,\n",
       "       3.30564609, 3.3109515 , 3.31616828, 3.32132607, 3.32644498,\n",
       "       3.33153879, 3.33661721, 3.34168747, 3.34675547, 3.35182673,\n",
       "       3.35690733, 3.36200483, 3.36712956, 3.37229624, 3.3775264 ,\n",
       "       3.38285188, 3.38831995, 3.39400101])"
      ]
     },
     "execution_count": 73,
     "metadata": {},
     "output_type": "execute_result"
    }
   ],
   "source": [
    "interval_x3 = np.arange(nodes_x[2], nodes_x[3], 0.1)\n",
    "interpolated_y3 = interpolation_function(2, interval_x3)\n",
    "interpolated_y3"
   ]
  },
  {
   "cell_type": "code",
   "execution_count": 74,
   "metadata": {},
   "outputs": [
    {
     "data": {
      "text/plain": [
       "[<matplotlib.lines.Line2D at 0x1d7c0193970>]"
      ]
     },
     "execution_count": 74,
     "metadata": {},
     "output_type": "execute_result"
    },
    {
     "data": {
      "image/png": "[encoded data removed]",
      "text/plain": [
       "<Figure size 432x288 with 1 Axes>"
      ]
     },
     "metadata": {
      "needs_background": "light"
     },
     "output_type": "display_data"
    }
   ],
   "source": [
    "plt.plot(interval_x1, interpolated_y1, '.')\n",
    "plt.plot(interval_x2, interpolated_y2, '.')"
   ]
  },
  {
   "cell_type": "code",
   "execution_count": 26,
   "metadata": {},
   "outputs": [
    {
     "data": {
      "text/plain": [
       "[<matplotlib.lines.Line2D at 0x2494009a0d0>]"
      ]
     },
     "execution_count": 26,
     "metadata": {},
     "output_type": "execute_result"
    },
    {
     "data": {
      "image/png": "[encoded data removed]",
      "text/plain": [
       "<Figure size 648x288 with 1 Axes>"
      ]
     },
     "metadata": {
      "needs_background": "light"
     },
     "output_type": "display_data"
    }
   ],
   "source": [
    "plt.figure(figsize=(9,4))\n",
    "plt.plot(nodes_x, nodes_y, '.')"
   ]
  },
  {
   "cell_type": "code",
   "execution_count": 27,
   "metadata": {},
   "outputs": [
    {
     "data": {
      "text/plain": [
       "2.9"
      ]
     },
     "execution_count": 27,
     "metadata": {},
     "output_type": "execute_result"
    }
   ],
   "source": [
    "nodes_y[2]"
   ]
  },
  {
   "cell_type": "code",
   "execution_count": null,
   "metadata": {},
   "outputs": [],
   "source": []
  }
 ],
 "metadata": {
  "kernelspec": {
   "display_name": "Python 3",
   "language": "python",
   "name": "python3"
  },
  "language_info": {
   "codemirror_mode": {
    "name": "ipython",
    "version": 3
   },
   "file_extension": ".py",
   "mimetype": "text/x-python",
   "name": "python",
   "nbconvert_exporter": "python",
   "pygments_lexer": "ipython3",
   "version": "3.8.3"
  }
 },
 "nbformat": 4,
 "nbformat_minor": 4
}
