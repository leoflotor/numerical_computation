{
 "cells": [
  {
   "cell_type": "code",
   "execution_count": 43,
   "metadata": {},
   "outputs": [],
   "source": [
    "import numpy as np\n",
    "import matplotlib.pyplot as plt\n",
    "from numpy import sinh, cosh"
   ]
  },
  {
   "cell_type": "code",
   "execution_count": 17,
   "metadata": {},
   "outputs": [],
   "source": [
    "# Initial matrixes A x = f:\n",
    "# a -> A\n",
    "# b -> f\n",
    "\n",
    "matrix_a = [\n",
    "    [4.0, 1.0, 0.0, 0.0],\n",
    "    [1.0, 4.0, 1.0, 0.0],\n",
    "    [0.0, 1.0, 4.0, 1.0],\n",
    "    [0.0, 0.0, 1.0, 4.0]\n",
    "]\n",
    "matrix_a = np.array(matrix_a)"
   ]
  },
  {
   "cell_type": "code",
   "execution_count": 18,
   "metadata": {},
   "outputs": [],
   "source": [
    "matrix_b = [6.0, 12.0, 18.0, 19.0]\n",
    "matrix_b = np.array(matrix_b)"
   ]
  },
  {
   "cell_type": "code",
   "execution_count": 19,
   "metadata": {},
   "outputs": [
    {
     "data": {
      "text/plain": [
       "array([1., 2., 3., 4.])"
      ]
     },
     "execution_count": 19,
     "metadata": {},
     "output_type": "execute_result"
    }
   ],
   "source": [
    "# The solution using the python function\n",
    "np.linalg.solve(matrix_a, matrix_b)"
   ]
  },
  {
   "cell_type": "code",
   "execution_count": 20,
   "metadata": {},
   "outputs": [],
   "source": [
    "# Function to find the coefficients of a linear system of the form A x = f.\n",
    "# Where A is a tridiagonal matrix, f is a vector with the function values,\n",
    "# and x is a vector which we want to find its components to solve the system.\n",
    "\n",
    "def solution_coefficients(matrix_A, vector_f):\n",
    "    matrix = matrix_A.copy()\n",
    "    vector = vector_f.copy()\n",
    "    \n",
    "    for i in range(1, np.shape(matrix)[0]):\n",
    "        vector[i] = vector[i] - (matrix[i, i-1] / matrix[i-1, i-1]) * vector[i-1]\n",
    "        matrix[i] = matrix[i] - (matrix[i, i-1] / matrix[i-1, i-1]) * matrix[i-1]\n",
    "    \n",
    "    coefficients = np.array([vector[-1] / matrix[-1, -1]])\n",
    "    \n",
    "    for i in range(np.shape(matrix)[0] - 2, -1, -1):\n",
    "        x = (vector[i] - matrix[i, i+1] * coefficients[0]) / matrix[i, i]\n",
    "        coefficients = np.insert(coefficients, 0, x)\n",
    "        \n",
    "    return coefficients"
   ]
  },
  {
   "cell_type": "code",
   "execution_count": 21,
   "metadata": {},
   "outputs": [
    {
     "data": {
      "text/plain": [
       "array([1., 2., 3., 4.])"
      ]
     },
     "execution_count": 21,
     "metadata": {},
     "output_type": "execute_result"
    }
   ],
   "source": [
    "# The order of the coefficients is as follows:\n",
    "# sol = {sol_0, sol_1, sol_2, ... , sol_n}\n",
    "\n",
    "solution_coefficients(matrix_a, matrix_b)"
   ]
  },
  {
   "cell_type": "markdown",
   "metadata": {},
   "source": [
    "Now, I shall generate the matrix to find the $z_{i}$ coefficients for the tension spline. With the funciton defined above *solution_coefficients* I can solve the resulting system of equations."
   ]
  },
  {
   "cell_type": "code",
   "execution_count": 22,
   "metadata": {},
   "outputs": [],
   "source": [
    "nodes_x = [0.0, 0.9, 1.8, 8.3, 11.0, 18.0, 20.4, 23.6, 25.0]\n",
    "nodes_y = [1.3, 1.3, 2.9, 3.8, 7.2, 7.2, 4.6, 4.6, 0.0]\n",
    "tau = 10"
   ]
  },
  {
   "cell_type": "code",
   "execution_count": 44,
   "metadata": {},
   "outputs": [],
   "source": [
    "# MUST CHECK THE DEFINITION for h here. There is something odd with the indexes. \n",
    "def h(i):\n",
    "    return nodes_x[i+1] - nodes_x[i]"
   ]
  },
  {
   "cell_type": "code",
   "execution_count": 45,
   "metadata": {},
   "outputs": [],
   "source": [
    "def alpha(i):\n",
    "    return (1 / h(i)) - (tau / sinh(tau * h(i)))"
   ]
  },
  {
   "cell_type": "code",
   "execution_count": 48,
   "metadata": {},
   "outputs": [],
   "source": [
    "def beta(i):\n",
    "    return (tau * cosh(tau * h(i)) / sinh(tau * h(i))) - (1 / h(i))"
   ]
  },
  {
   "cell_type": "code",
   "execution_count": 50,
   "metadata": {},
   "outputs": [],
   "source": [
    "def gamma(i):\n",
    "    return tau**2 * (nodes_y[i+1] - nodes_y[i]) / h(i)"
   ]
  },
  {
   "cell_type": "code",
   "execution_count": null,
   "metadata": {},
   "outputs": [],
   "source": []
  }
 ],
 "metadata": {
  "kernelspec": {
   "display_name": "Python 3",
   "language": "python",
   "name": "python3"
  },
  "language_info": {
   "codemirror_mode": {
    "name": "ipython",
    "version": 3
   },
   "file_extension": ".py",
   "mimetype": "text/x-python",
   "name": "python",
   "nbconvert_exporter": "python",
   "pygments_lexer": "ipython3",
   "version": "3.8.3"
  }
 },
 "nbformat": 4,
 "nbformat_minor": 4
}
