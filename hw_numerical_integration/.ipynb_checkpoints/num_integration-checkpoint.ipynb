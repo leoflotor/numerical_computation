{
 "cells": [
  {
   "cell_type": "code",
   "execution_count": 1,
   "metadata": {},
   "outputs": [],
   "source": [
    "import numpy as np"
   ]
  },
  {
   "cell_type": "code",
   "execution_count": 2,
   "metadata": {},
   "outputs": [],
   "source": [
    "def f(x):\n",
    "    return 1/x"
   ]
  },
  {
   "cell_type": "code",
   "execution_count": 3,
   "metadata": {},
   "outputs": [],
   "source": [
    "a = np.linspace(1/2, 1, 10)\n",
    "error = np.array([])"
   ]
  },
  {
   "cell_type": "code",
   "execution_count": 4,
   "metadata": {},
   "outputs": [],
   "source": [
    "# Integrand upper limit, and number of subintervals.\n",
    "b = 1\n",
    "n = 20\n",
    "\n",
    "for element in a:\n",
    "    h = (b - element) / n\n",
    "\n",
    "    x = np.linspace(element, b, n+1)\n",
    "    y = f(x)\n",
    "\n",
    "    # Result we are looking for for log(1/2)\n",
    "    result = np.log(element)\n",
    "    # result\n",
    "\n",
    "    approx = 0\n",
    "    for i in range(1, np.int((n / 2) + 1)):\n",
    "        approx += (h / 3) * (y[2 * i - 2] + 4 * y[2 * i - 1] + y[2 * i])\n",
    "\n",
    "    approx = -approx\n",
    "    approx\n",
    "\n",
    "    error = np.append(error, result - approx)"
   ]
  },
  {
   "cell_type": "code",
   "execution_count": 5,
   "metadata": {},
   "outputs": [
    {
     "data": {
      "text/plain": [
       "array([1.48164916e-06, 5.89082021e-07, 2.25199114e-07, 8.02477632e-08,\n",
       "       2.55329541e-08, 6.78088580e-09, 1.33052383e-09, 1.47397275e-10,\n",
       "       3.93334670e-12, 0.00000000e+00])"
      ]
     },
     "execution_count": 5,
     "metadata": {},
     "output_type": "execute_result"
    }
   ],
   "source": [
    "error"
   ]
  },
  {
   "cell_type": "code",
   "execution_count": 69,
   "metadata": {},
   "outputs": [
    {
     "data": {
      "text/plain": [
       "8.033151441821929e-07"
      ]
     },
     "execution_count": 69,
     "metadata": {},
     "output_type": "execute_result"
    }
   ],
   "source": [
    "# Integrand upper limit, and number of subintervals.\n",
    "element = 1/2\n",
    "b = 1\n",
    "n = 20\n",
    "\n",
    "h = (b - element) / n\n",
    "\n",
    "x = np.linspace(element, b, n+1)\n",
    "y = f(x)\n",
    "\n",
    "    # Result we are looking for for log(1/2)\n",
    "result = np.log(element)\n",
    "    # result\n",
    "\n",
    "approx = 0\n",
    "for i in range(1, np.int((n / 2) + 1)):\n",
    "    approx += (h / 3) * (y[2 * i - 2] + 4 * y[2 * i - 1] + y[2 * i])\n",
    "\n",
    "approx = -approx\n",
    "approx\n",
    "\n",
    "result - approx"
   ]
  },
  {
   "cell_type": "code",
   "execution_count": 70,
   "metadata": {},
   "outputs": [
    {
     "data": {
      "text/plain": [
       "0.03571428571428571"
      ]
     },
     "execution_count": 70,
     "metadata": {},
     "output_type": "execute_result"
    }
   ],
   "source": [
    "h"
   ]
  },
  {
   "cell_type": "code",
   "execution_count": null,
   "metadata": {},
   "outputs": [],
   "source": []
  }
 ],
 "metadata": {
  "kernelspec": {
   "display_name": "Python 3",
   "language": "python",
   "name": "python3"
  },
  "language_info": {
   "codemirror_mode": {
    "name": "ipython",
    "version": 3
   },
   "file_extension": ".py",
   "mimetype": "text/x-python",
   "name": "python",
   "nbconvert_exporter": "python",
   "pygments_lexer": "ipython3",
   "version": "3.8.3"
  }
 },
 "nbformat": 4,
 "nbformat_minor": 4
}
